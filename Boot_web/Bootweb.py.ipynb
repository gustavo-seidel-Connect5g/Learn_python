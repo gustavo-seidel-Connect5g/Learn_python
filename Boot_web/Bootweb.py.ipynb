{
 "cells": [
  {
   "cell_type": "code",
   "execution_count": null,
   "id": "28bf7a51",
   "metadata": {},
   "outputs": [],
   "source": [
    "# Bot on the internet - Selenium\n",
    "# This is project have a objective that creat a automatization for generate SIF scripts"
   ]
  },
  {
   "cell_type": "code",
   "execution_count": 23,
   "id": "1b48424d",
   "metadata": {},
   "outputs": [],
   "source": [
    "from selenium import webdriver\n",
    "from selenium.webdriver.common.by import By\n",
    "import  time\n",
    "\n",
    "login = \"gustavo.seidel\"\n",
    "senha = \"vLMeMGcASC\"\n",
    "\n",
    "# Was selelected the Chrome because was recommended\n",
    "# The link abouve is about tool that generate scripts\n",
    "navagator = webdriver.Chrome()\n",
    "navagator.get(\"http://ec2-3-86-223-139.compute-1.amazonaws.com/mos-generator\")\n",
    "  \n",
    "# Login element\n",
    "navagator.find_element('xpath','//*[@id=\"mat-input-0\"]').send_keys(login)\n",
    "# Password element\n",
    "navagator.find_element('xpath','//*[@id=\"mat-input-1\"]').send_keys(senha)\n",
    "# Press botton\n",
    "navagator.find_element('xpath','/html/body/app-root/app-login/div/button').click()\n",
    "time.sleep(3)\n",
    "# Select \"Solutions\"\n",
    "navagator.find_element('xpath','/html/body/app-root/nav/a[3]').click()\n",
    "time.sleep(1)\n",
    "# Select Costumer\n",
    "navagator.find_element('xpath','/html/body/app-root/app-menu/div/div/button[1]/span[1]').click()\n",
    "time.sleep(1)\n",
    "# Select Sif Generator\n",
    "navagator.find_element('xpath','/html/body/app-root/app-menu/div/div/a[1]/span[1]').click()"
   ]
  },
  {
   "cell_type": "code",
   "execution_count": null,
   "id": "f3733d88",
   "metadata": {},
   "outputs": [],
   "source": []
  },
  {
   "cell_type": "code",
   "execution_count": null,
   "id": "bec670ff",
   "metadata": {},
   "outputs": [],
   "source": []
  }
 ],
 "metadata": {
  "kernelspec": {
   "display_name": "Python 3 (ipykernel)",
   "language": "python",
   "name": "python3"
  },
  "language_info": {
   "codemirror_mode": {
    "name": "ipython",
    "version": 3
   },
   "file_extension": ".py",
   "mimetype": "text/x-python",
   "name": "python",
   "nbconvert_exporter": "python",
   "pygments_lexer": "ipython3",
   "version": "3.9.12"
  }
 },
 "nbformat": 4,
 "nbformat_minor": 5
}
